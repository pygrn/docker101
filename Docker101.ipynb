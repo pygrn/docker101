{
 "cells": [
  {
   "cell_type": "code",
   "execution_count": 2,
   "metadata": {
    "slideshow": {
     "slide_type": "skip"
    }
   },
   "outputs": [
    {
     "data": {
      "text/plain": [
       "{'transition': 'zoom',\n",
       " 'start_slideshow_at': 'selected',\n",
       " 'footer': '<h3>Python Girona 2018</h3>'}"
      ]
     },
     "execution_count": 2,
     "metadata": {},
     "output_type": "execute_result"
    }
   ],
   "source": [
    "#!/usr/bin/env python3\n",
    "from traitlets.config.manager import BaseJSONConfigManager\n",
    "cm = BaseJSONConfigManager()\n",
    "cm.update(\n",
    "    \"rise\",\n",
    "    {\n",
    "        \"transition\": \"zoom\",\n",
    "        \"start_slideshow_at\": \"selected\",\n",
    "        \"footer\": \"<h3>Python Girona 2018</h3>\"\n",
    "    }\n",
    ")"
   ]
  },
  {
   "cell_type": "markdown",
   "metadata": {
    "slideshow": {
     "slide_type": "slide"
    }
   },
   "source": [
    "# Docker 101\n",
    "\n",
    "\n",
    "---------------- \n",
    "\n",
    "Python Girona - October 2018\n",
    "\n",
    "-----------------\n",
    "\n",
    "[Jordi Bagot](https://github.com/jbagot), [Xavi Torelló](https://github.com/XaviTorello)"
   ]
  },
  {
   "cell_type": "markdown",
   "metadata": {
    "slideshow": {
     "slide_type": "subslide"
    }
   },
   "source": [
    "## What is a Container?"
   ]
  },
  {
   "cell_type": "markdown",
   "metadata": {
    "slideshow": {
     "slide_type": "fragment"
    }
   },
   "source": [
    "A `container` embeds an application / service and all of its dependencies in a single space."
   ]
  },
  {
   "cell_type": "markdown",
   "metadata": {
    "slideshow": {
     "slide_type": "fragment"
    }
   },
   "source": [
    "- Isolation"
   ]
  },
  {
   "cell_type": "markdown",
   "metadata": {
    "slideshow": {
     "slide_type": "fragment"
    }
   },
   "source": [
    "- Ready to run"
   ]
  },
  {
   "cell_type": "markdown",
   "metadata": {
    "slideshow": {
     "slide_type": "fragment"
    }
   },
   "source": [
    "- Standardization //run everywhere"
   ]
  },
  {
   "cell_type": "markdown",
   "metadata": {
    "slideshow": {
     "slide_type": "subslide"
    }
   },
   "source": [
    "## What is Docker?"
   ]
  },
  {
   "cell_type": "markdown",
   "metadata": {
    "slideshow": {
     "slide_type": "fragment"
    }
   },
   "source": [
    "`Docker` is a platform for developers and sysadmins to develop, ship, and run applications"
   ]
  },
  {
   "cell_type": "markdown",
   "metadata": {
    "slideshow": {
     "slide_type": "fragment"
    }
   },
   "source": [
    "- `Docker Engine`: open source containerization technology"
   ]
  },
  {
   "cell_type": "markdown",
   "metadata": {
    "slideshow": {
     "slide_type": "fragment"
    }
   },
   "source": [
    "- `Docker Hub`: SaaS service for sharing and managing app stacks"
   ]
  },
  {
   "cell_type": "markdown",
   "metadata": {
    "slideshow": {
     "slide_type": "subslide"
    }
   },
   "source": [
    "## Docker vs VM?"
   ]
  },
  {
   "cell_type": "markdown",
   "metadata": {
    "slideshow": {
     "slide_type": "fragment"
    }
   },
   "source": [
    "![alt text](ct_vs_vm.png \"Containers vs VMs\")\n",
    "\n",
    "\n",
    "\n",
    "images from https://www.docker.com/resources/what-container\n"
   ]
  },
  {
   "cell_type": "markdown",
   "metadata": {
    "slideshow": {
     "slide_type": "subslide"
    }
   },
   "source": [
    "## Benefits"
   ]
  },
  {
   "cell_type": "markdown",
   "metadata": {
    "slideshow": {
     "slide_type": "fragment"
    }
   },
   "source": [
    "- Smaller costs (by default)"
   ]
  },
  {
   "cell_type": "markdown",
   "metadata": {
    "slideshow": {
     "slide_type": "fragment"
    }
   },
   "source": [
    "- Fast delivery\n",
    "  - Compatibility\n",
    "  - Maintainability\n",
    "  - CI"
   ]
  },
  {
   "cell_type": "markdown",
   "metadata": {
    "slideshow": {
     "slide_type": "fragment"
    }
   },
   "source": [
    "- Rapid deployment"
   ]
  },
  {
   "cell_type": "markdown",
   "metadata": {
    "slideshow": {
     "slide_type": "fragment"
    }
   },
   "source": [
    "- Scalability"
   ]
  },
  {
   "cell_type": "markdown",
   "metadata": {
    "slideshow": {
     "slide_type": "fragment"
    }
   },
   "source": [
    "- Security"
   ]
  },
  {
   "cell_type": "markdown",
   "metadata": {
    "slideshow": {
     "slide_type": "fragment"
    }
   },
   "source": [
    "- Virtualenvs not needed"
   ]
  },
  {
   "cell_type": "markdown",
   "metadata": {
    "slideshow": {
     "slide_type": "fragment"
    }
   },
   "source": [
    "- Keep your machine clean"
   ]
  },
  {
   "cell_type": "markdown",
   "metadata": {
    "slideshow": {
     "slide_type": "slide"
    }
   },
   "source": [
    "## How to use it?"
   ]
  },
  {
   "cell_type": "markdown",
   "metadata": {
    "slideshow": {
     "slide_type": "subslide"
    }
   },
   "source": [
    "### Dockerfile"
   ]
  },
  {
   "cell_type": "markdown",
   "metadata": {
    "slideshow": {
     "slide_type": "fragment"
    }
   },
   "source": [
    "- Defines the behaviour of the image"
   ]
  },
  {
   "cell_type": "markdown",
   "metadata": {
    "slideshow": {
     "slide_type": "fragment"
    }
   },
   "source": [
    "- It's like a Makefile that prepares everything"
   ]
  },
  {
   "cell_type": "markdown",
   "metadata": {
    "slideshow": {
     "slide_type": "fragment"
    }
   },
   "source": [
    "- Also starts the related service"
   ]
  },
  {
   "cell_type": "markdown",
   "metadata": {
    "slideshow": {
     "slide_type": "fragment"
    }
   },
   "source": [
    "```\n",
    "FROM alpine:latest\n",
    "COPY . /app\n",
    "RUN make /app\n",
    "CMD python /app/app.py\n",
    "```"
   ]
  },
  {
   "cell_type": "markdown",
   "metadata": {
    "slideshow": {
     "slide_type": "subslide"
    }
   },
   "source": [
    "### Docker Image"
   ]
  },
  {
   "cell_type": "markdown",
   "metadata": {
    "slideshow": {
     "slide_type": "fragment"
    }
   },
   "source": [
    "- File"
   ]
  },
  {
   "cell_type": "markdown",
   "metadata": {
    "slideshow": {
     "slide_type": "fragment"
    }
   },
   "source": [
    "- Comprised of multiple layers  //~ snapshot incremental diffs "
   ]
  },
  {
   "cell_type": "markdown",
   "metadata": {
    "slideshow": {
     "slide_type": "fragment"
    }
   },
   "source": [
    "- Used to execute code in a `Docker container`"
   ]
  },
  {
   "cell_type": "markdown",
   "metadata": {
    "slideshow": {
     "slide_type": "subslide"
    }
   },
   "source": [
    "```\n",
    "$ docker images\n",
    "REPOSITORY                        TAG                 IMAGE ID            CREATED             SIZE\n",
    "shodand_scanner_scanner           latest              82daf18d5d92        11 days ago         551MB\n",
    "empireproject/empire              latest              527d5d78e7fc        3 months ago        1.19GB\n",
    "redis                             alpine              05097a3a0549        12 days ago         30MB\n",
    "redis                             2.8                 481995377a04        2 years ago         186MB\n",
    "elpaso/qgis-testing-environment   master              334775a61a4f        2 weeks ago         3.39GB\n",
    "docker_erp                        latest              285af92a3352        4 weeks ago         1.05GB\n",
    "ubuntu                            16.04               b9e15a5d1e1a        5 weeks ago         115MB\n",
    "python                            2.7                 4ee4ea2f0113        5 weeks ago         908MB\n",
    "mongo                             3.0                 fdab8031e252        5 months ago        232MB\n",
    "gisce/oopostgres_test             postgis             6951e682bee1        2 years ago         790MB\n",
    "```"
   ]
  },
  {
   "cell_type": "markdown",
   "metadata": {
    "slideshow": {
     "slide_type": "subslide"
    }
   },
   "source": [
    "### Running images in containers"
   ]
  },
  {
   "cell_type": "markdown",
   "metadata": {
    "slideshow": {
     "slide_type": "fragment"
    }
   },
   "source": [
    "- Idempotence?"
   ]
  },
  {
   "cell_type": "markdown",
   "metadata": {
    "slideshow": {
     "slide_type": "fragment"
    }
   },
   "source": [
    "- Do **not persist** (normally)"
   ]
  },
  {
   "cell_type": "markdown",
   "metadata": {
    "slideshow": {
     "slide_type": "fragment"
    }
   },
   "source": [
    "- Runs as **`root`** (normally)"
   ]
  },
  {
   "cell_type": "markdown",
   "metadata": {
    "slideshow": {
     "slide_type": "fragment"
    }
   },
   "source": [
    "- Does **not expose** any container **port** to the host by default"
   ]
  },
  {
   "cell_type": "markdown",
   "metadata": {
    "slideshow": {
     "slide_type": "fragment"
    }
   },
   "source": [
    "- Does **not map** any host **resource** to the container by default"
   ]
  },
  {
   "cell_type": "markdown",
   "metadata": {
    "slideshow": {
     "slide_type": "subslide"
    }
   },
   "source": [
    "Running a `python:2.7` image in a temporal container\n",
    "\n",
    "```\n",
    "docker run --rm -it python:2.7 python\n",
    "Python 2.7.15 (default, Sep  5 2018, 04:46:44) \n",
    "[GCC 6.3.0 20170516] on linux2\n",
    "Type \"help\", \"copyright\", \"credits\" or \"license\" for more information.\n",
    ">>> \n",
    "```\n",
    "\n",
    ", once the execution ends, the container will be autodestroyed."
   ]
  },
  {
   "cell_type": "markdown",
   "metadata": {
    "slideshow": {
     "slide_type": "subslide"
    }
   },
   "source": [
    "We can also get a shell for this container:\n",
    "```\n",
    "$ docker run --rm -it python:2.7 bash\n",
    "root@2a57575d1807:/# python -V\n",
    "Python 2.7.15\n",
    "\n",
    "root@2a57575d1807:/# ls -la\n",
    "total 72\n",
    "drwxr-xr-x   1 root root 4096 Oct 15 10:54 .\n",
    "drwxr-xr-x   1 root root 4096 Oct 15 10:54 ..\n",
    "-rwxr-xr-x   1 root root    0 Oct 15 10:54 .dockerenv\n",
    "drwxr-xr-x   1 root root 4096 Sep  4 22:35 bin\n",
    "drwxr-xr-x   2 root root 4096 Jun 26 12:03 boot\n",
    "drwxr-xr-x   5 root root  360 Oct 15 10:54 dev\n",
    "drwxr-xr-x   1 root root 4096 Oct 15 10:54 etc\n",
    "drwxr-xr-x   2 root root 4096 Jun 26 12:03 home\n",
    "drwxr-xr-x   1 root root 4096 Sep  4 22:35 lib\n",
    "drwxr-xr-x   2 root root 4096 Aug 31 00:00 lib64\n",
    "drwxr-xr-x   2 root root 4096 Aug 31 00:00 media\n",
    "drwxr-xr-x   2 root root 4096 Aug 31 00:00 mnt\n",
    "drwxr-xr-x   2 root root 4096 Aug 31 00:00 opt\n",
    "dr-xr-xr-x 341 root root    0 Oct 15 10:54 proc\n",
    "drwx------   1 root root 4096 Sep  5 04:45 root\n",
    "drwxr-xr-x   3 root root 4096 Aug 31 00:00 run\n",
    "drwxr-xr-x   1 root root 4096 Sep  4 22:34 sbin\n",
    "drwxr-xr-x   2 root root 4096 Aug 31 00:00 srv\n",
    "dr-xr-xr-x  13 root root    0 Oct 15 10:54 sys\n",
    "drwxrwxrwt   1 root root 4096 Sep  5 04:48 tmp\n",
    "drwxr-xr-x   1 root root 4096 Aug 31 00:00 usr\n",
    "drwxr-xr-x   1 root root 4096 Aug 31 00:00 var\n",
    "\n",
    "root@2a57575d1807:/#\n",
    "```"
   ]
  },
  {
   "cell_type": "markdown",
   "metadata": {
    "slideshow": {
     "slide_type": "subslide"
    }
   },
   "source": [
    "Reviewing existing containers:\n",
    "```\n",
    "$ docker ps\n",
    "CONTAINER ID        IMAGE               COMMAND                  CREATED             STATUS              PORTS               NAMES\n",
    "7c06579979f3        redis:2.8           \"docker-entrypoint.s…\"   5 seconds ago       Up 4 seconds        6379/tcp            quirky_hawking\n",
    "```"
   ]
  },
  {
   "cell_type": "markdown",
   "metadata": {
    "slideshow": {
     "slide_type": "fragment"
    }
   },
   "source": [
    "Use `-a` flag to see all (not just the started ones) \n",
    "```\n",
    "$ docker ps -a\n",
    "CONTAINER ID        IMAGE                           COMMAND                  CREATED             STATUS                      PORTS               NAMES\n",
    "7c06579979f3        redis:2.8                       \"docker-entrypoint.s…\"   22 seconds ago      Up 22 seconds               6379/tcp            quirky_hawking\n",
    "a22ce5c1986b        docker_erp                      \"/entrypoint.sh open…\"   22 hours ago        Exited (0) 20 \n",
    "...\n",
    "...\n",
    "---\n",
    "```"
   ]
  },
  {
   "cell_type": "markdown",
   "metadata": {
    "slideshow": {
     "slide_type": "subslide"
    }
   },
   "source": [
    "Start a container\n",
    "```\n",
    "$ docker start docker_erp\n",
    "```"
   ]
  },
  {
   "cell_type": "markdown",
   "metadata": {
    "slideshow": {
     "slide_type": "fragment"
    }
   },
   "source": [
    "Stop it!\n",
    "```\n",
    "$ docker stop docker_erp\n",
    "```"
   ]
  },
  {
   "cell_type": "markdown",
   "metadata": {
    "slideshow": {
     "slide_type": "fragment"
    }
   },
   "source": [
    "Delete it!\n",
    "```\n",
    "$ docker rm docker_erp\n",
    "```"
   ]
  },
  {
   "cell_type": "markdown",
   "metadata": {
    "slideshow": {
     "slide_type": "subslide"
    }
   },
   "source": [
    "## But I want to communicate with my container!!!!"
   ]
  },
  {
   "cell_type": "markdown",
   "metadata": {
    "slideshow": {
     "slide_type": "fragment"
    }
   },
   "source": [
    "- **Expose** ports with\n",
    "  - `- p $HOST_PORT:$CONTAINER_PORT` at run time\n",
    "    - i.e `-p 8080:8081` to expose the 8080 container port to 8081's host\n",
    "  - use the `EXPOSE $PORT` command in your `Dockerfile`"
   ]
  },
  {
   "cell_type": "markdown",
   "metadata": {
    "slideshow": {
     "slide_type": "fragment"
    }
   },
   "source": [
    "- **Mount** paths\n",
    "  - `- v $HOST_PATH:$CONTAINER_PATH` at run time\n",
    "    - i.e `-p 8080:8081` to expose the 8080 container port to 8081's host\n",
    "  - see the difference mount vs `ADD` `Dockerfile` command"
   ]
  },
  {
   "cell_type": "markdown",
   "metadata": {
    "slideshow": {
     "slide_type": "slide"
    }
   },
   "source": [
    "## But my service needs more than one container..."
   ]
  },
  {
   "cell_type": "markdown",
   "metadata": {
    "slideshow": {
     "slide_type": "fragment"
    }
   },
   "source": [
    "## docker-compose is your friend!\n",
    "\n",
    "![alt text](old_friends.gif \"Friends\")"
   ]
  },
  {
   "cell_type": "markdown",
   "metadata": {
    "slideshow": {
     "slide_type": "subslide"
    }
   },
   "source": [
    "## Docker compositions"
   ]
  },
  {
   "cell_type": "markdown",
   "metadata": {
    "slideshow": {
     "slide_type": "fragment"
    }
   },
   "source": [
    "- run multiple containers at same time"
   ]
  },
  {
   "cell_type": "markdown",
   "metadata": {
    "slideshow": {
     "slide_type": "fragment"
    }
   },
   "source": [
    "- define your stack using a YAML file"
   ]
  },
  {
   "cell_type": "markdown",
   "metadata": {
    "slideshow": {
     "slide_type": "subslide"
    }
   },
   "source": [
    "```\n",
    "version: '3'\n",
    "services:\n",
    "  web:\n",
    "    build: .\n",
    "    ports:\n",
    "     - \"5000:5000\"\n",
    "  redis:\n",
    "    image: \"redis:alpine\"\n",
    "\n",
    "```\n",
    "\n",
    "this will provide two containers\n",
    "  - `web`: that uses local `Dockerfile` definition and binds the TCP#5000\n",
    "  - `redis`: that runs an `alpine` tagged `redis` image "
   ]
  },
  {
   "cell_type": "markdown",
   "metadata": {
    "slideshow": {
     "slide_type": "subslide"
    }
   },
   "source": [
    "- the services can be interconnected with a network"
   ]
  },
  {
   "cell_type": "markdown",
   "metadata": {
    "slideshow": {
     "slide_type": "fragment"
    }
   },
   "source": [
    "- configure environment variables, different enviroments -> CI"
   ]
  },
  {
   "cell_type": "markdown",
   "metadata": {
    "slideshow": {
     "slide_type": "slide"
    }
   },
   "source": [
    "## Docker Hub"
   ]
  },
  {
   "cell_type": "markdown",
   "metadata": {
    "slideshow": {
     "slide_type": "fragment"
    }
   },
   "source": [
    "- repository with thousands of images ready to use"
   ]
  },
  {
   "cell_type": "markdown",
   "metadata": {
    "slideshow": {
     "slide_type": "subslide"
    }
   },
   "source": [
    "- pull images from `Docker Hub` with Dockerfile"
   ]
  },
  {
   "cell_type": "markdown",
   "metadata": {
    "slideshow": {
     "slide_type": "fragment"
    }
   },
   "source": [
    "- Create your own repository. Ex: Gitlab registry"
   ]
  },
  {
   "cell_type": "markdown",
   "metadata": {
    "slideshow": {
     "slide_type": "fragment"
    }
   },
   "source": [
    "- push your images to your repository or to `Docker Hub` with `docker push`"
   ]
  },
  {
   "cell_type": "markdown",
   "metadata": {
    "slideshow": {
     "slide_type": "fragment"
    }
   },
   "source": [
    "- add a tag in the image name"
   ]
  },
  {
   "cell_type": "markdown",
   "metadata": {
    "slideshow": {
     "slide_type": "fragment"
    }
   },
   "source": [
    "- version control for your images\n",
    "```\n",
    "docker101:latest\n",
    "docker101:1.0.0\n",
    "```"
   ]
  },
  {
   "cell_type": "markdown",
   "metadata": {
    "slideshow": {
     "slide_type": "subslide"
    }
   },
   "source": [
    "### Share your images!!! Share your knowledge!!!\n",
    "\n",
    "![Share!](share.gif \"Share\")"
   ]
  },
  {
   "cell_type": "markdown",
   "metadata": {
    "slideshow": {
     "slide_type": "slide"
    }
   },
   "source": [
    "## Orchestrators"
   ]
  },
  {
   "cell_type": "markdown",
   "metadata": {
    "slideshow": {
     "slide_type": "subslide"
    }
   },
   "source": [
    "### What are orchestrators?"
   ]
  },
  {
   "cell_type": "markdown",
   "metadata": {
    "slideshow": {
     "slide_type": "fragment"
    }
   },
   "source": [
    "- Help you to keep your containers healthy"
   ]
  },
  {
   "cell_type": "markdown",
   "metadata": {
    "slideshow": {
     "slide_type": "fragment"
    }
   },
   "source": [
    "- Help you with the deployments and sync the containers"
   ]
  },
  {
   "cell_type": "markdown",
   "metadata": {
    "slideshow": {
     "slide_type": "fragment"
    }
   },
   "source": [
    "- and much more, we will explain in the next talk ;)"
   ]
  },
  {
   "cell_type": "markdown",
   "metadata": {
    "slideshow": {
     "slide_type": "subslide"
    }
   },
   "source": [
    "### Examples of orchestrators"
   ]
  },
  {
   "cell_type": "markdown",
   "metadata": {
    "slideshow": {
     "slide_type": "fragment"
    }
   },
   "source": [
    "- Kubernetes"
   ]
  },
  {
   "cell_type": "markdown",
   "metadata": {
    "slideshow": {
     "slide_type": "fragment"
    }
   },
   "source": [
    "- Docker Swarm"
   ]
  },
  {
   "cell_type": "markdown",
   "metadata": {
    "slideshow": {
     "slide_type": "slide"
    }
   },
   "source": [
    "# Thank you!\n",
    "\n",
    "![Thanks!](thanks.gif \"Thanks\")"
   ]
  },
  {
   "cell_type": "markdown",
   "metadata": {
    "slideshow": {
     "slide_type": "slide"
    }
   },
   "source": [
    "# Questions?"
   ]
  }
 ],
 "metadata": {
  "celltoolbar": "Slideshow",
  "kernelspec": {
   "display_name": "Python 3",
   "language": "python",
   "name": "python3"
  },
  "language_info": {
   "codemirror_mode": {
    "name": "ipython",
    "version": 3
   },
   "file_extension": ".py",
   "mimetype": "text/x-python",
   "name": "python",
   "nbconvert_exporter": "python",
   "pygments_lexer": "ipython3",
   "version": "3.6.5"
  }
 },
 "nbformat": 4,
 "nbformat_minor": 2
}
