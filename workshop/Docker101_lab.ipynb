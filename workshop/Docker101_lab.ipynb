{
 "cells": [
  {
   "cell_type": "code",
   "execution_count": null,
   "metadata": {
    "slideshow": {
     "slide_type": "skip"
    }
   },
   "outputs": [],
   "source": [
    "#!/usr/bin/env python3\n",
    "from traitlets.config.manager import BaseJSONConfigManager\n",
    "cm = BaseJSONConfigManager()\n",
    "cm.update(\n",
    "    \"rise\",\n",
    "    {\n",
    "        \"transition\": \"zoom\",\n",
    "        \"start_slideshow_at\": \"selected\",\n",
    "        \"footer\": \"<h3>Python Girona 2019</h3>\"\n",
    "    }\n",
    ")"
   ]
  },
  {
   "cell_type": "markdown",
   "metadata": {
    "slideshow": {
     "slide_type": "slide"
    }
   },
   "source": [
    "# Docker 101 lab\n",
    "\n",
    "\n",
    "---------------- \n",
    "\n",
    "Python Girona - March 2019\n",
    "\n",
    "-----------------\n",
    "\n",
    "[Jordi Bagot](https://github.com/jbagot), [Xavi Torelló](https://github.com/XaviTorello)"
   ]
  },
  {
   "cell_type": "markdown",
   "metadata": {
    "slideshow": {
     "slide_type": "subslide"
    }
   },
   "source": [
    "## Agenda"
   ]
  },
  {
   "cell_type": "markdown",
   "metadata": {
    "slideshow": {
     "slide_type": "fragment"
    }
   },
   "source": [
    "- 1) Brief summary about **_what is a composition_**"
   ]
  },
  {
   "cell_type": "markdown",
   "metadata": {
    "slideshow": {
     "slide_type": "fragment"
    }
   },
   "source": [
    "- 2) Let's go! `//playing together with a composition`"
   ]
  },
  {
   "cell_type": "markdown",
   "metadata": {
    "slideshow": {
     "slide_type": "fragment"
    }
   },
   "source": [
    "- 3) Play time!"
   ]
  },
  {
   "cell_type": "markdown",
   "metadata": {
    "slideshow": {
     "slide_type": "fragment"
    }
   },
   "source": [
    "- 4) Doubts, conclusions and shared experiences"
   ]
  },
  {
   "cell_type": "markdown",
   "metadata": {
    "slideshow": {
     "slide_type": "slide"
    }
   },
   "source": [
    "## What is a Docker Composition?"
   ]
  },
  {
   "cell_type": "markdown",
   "metadata": {
    "slideshow": {
     "slide_type": "fragment"
    }
   },
   "source": [
    "### Assumptions"
   ]
  },
  {
   "cell_type": "markdown",
   "metadata": {
    "slideshow": {
     "slide_type": "fragment"
    }
   },
   "source": [
    "- 1) Everyone has reviewed the Docker101 talk"
   ]
  },
  {
   "cell_type": "markdown",
   "metadata": {
    "slideshow": {
     "slide_type": "fragment"
    }
   },
   "source": [
    "- 2) Everyone knows what is `Docker` and knows the difference between an `image` and a `container`"
   ]
  },
  {
   "cell_type": "markdown",
   "metadata": {
    "slideshow": {
     "slide_type": "fragment"
    }
   },
   "source": [
    "- 3) Everyone has been able to experiment with `Docker` and the `dockerhub` ecosystem"
   ]
  },
  {
   "cell_type": "markdown",
   "metadata": {
    "slideshow": {
     "slide_type": "subslide"
    }
   },
   "source": [
    "## A Composition is\n",
    "\n",
    "_a.k.a. Docker Compose instance_"
   ]
  },
  {
   "cell_type": "markdown",
   "metadata": {
    "slideshow": {
     "slide_type": "fragment"
    }
   },
   "source": [
    "- multi-container environment"
   ]
  },
  {
   "cell_type": "markdown",
   "metadata": {
    "slideshow": {
     "slide_type": "fragment"
    }
   },
   "source": [
    "- with an isolated network"
   ]
  },
  {
   "cell_type": "markdown",
   "metadata": {
    "slideshow": {
     "slide_type": "fragment"
    }
   },
   "source": [
    "- with automatic NS resolution based on containers name and aliases"
   ]
  },
  {
   "cell_type": "markdown",
   "metadata": {
    "slideshow": {
     "slide_type": "fragment"
    }
   },
   "source": [
    "- with the ability to inter-relationate and define dependences between each container / service"
   ]
  },
  {
   "cell_type": "markdown",
   "metadata": {
    "slideshow": {
     "slide_type": "fragment"
    }
   },
   "source": [
    "- with the capability to deploy and integrate public images with specific `build` scripts"
   ]
  },
  {
   "cell_type": "markdown",
   "metadata": {
    "slideshow": {
     "slide_type": "fragment"
    }
   },
   "source": [
    "- everything in a single file"
   ]
  },
  {
   "cell_type": "markdown",
   "metadata": {
    "slideshow": {
     "slide_type": "fragment"
    }
   },
   "source": [
    "- managed using a single powerful tool: `$ docker-compose`"
   ]
  },
  {
   "cell_type": "markdown",
   "metadata": {
    "slideshow": {
     "slide_type": "subslide"
    }
   },
   "source": [
    "## docker-compose is your friend!\n",
    "\n",
    "![alt text](./pictures/old_friends.gif \"Friends\")"
   ]
  },
  {
   "cell_type": "markdown",
   "metadata": {
    "slideshow": {
     "slide_type": "subslide"
    }
   },
   "source": [
    "## How it looks?\n",
    "YAML syntax:\n",
    "\n",
    "```yaml\n",
    "version: '3'\n",
    "services:\n",
    "  web:\n",
    "    build: .\n",
    "    ports:\n",
    "     - \"5000:5000\"\n",
    "  redis:\n",
    "    image: \"redis:alpine\"\n",
    "\n",
    "```\n",
    "--------------------------\n",
    "\n",
    "this will provide two containers\n",
    "  - `web`: that uses local `Dockerfile` definition and binds the `5000/tcp`\n",
    "  - `redis`: that runs an `alpine` tagged `redis` image from DockerHub"
   ]
  },
  {
   "cell_type": "markdown",
   "metadata": {
    "slideshow": {
     "slide_type": "subslide"
    }
   },
   "source": [
    "## Cheat sheet\n",
    "#### Start composition running containers in background\n",
    "`$ docker-compose up -d`\n",
    "\n",
    "#### Stop composition\n",
    "`$ docker-compose down`\n",
    "\n",
    "#### Build composition\n",
    "`$ docker-compose build [$service]`\n",
    "\n",
    "`$ docker-compose start [$service]`\n",
    "\n",
    "`$ docker-compose stop [$service]`\n"
   ]
  },
  {
   "cell_type": "markdown",
   "metadata": {
    "slideshow": {
     "slide_type": "subslide"
    }
   },
   "source": [
    "\n",
    "#### Review logs\n",
    "`$ docker-compose logs -f [$service]`\n",
    "\n",
    "####  Rescale service\n",
    "`$ docker-compose scale $service=4`\n",
    "\n",
    "#### Stream container events\n",
    "`$ docker-compose events --json`\n",
    "\n",
    "#### Drop an interactive shell\n",
    "\n",
    "`$ docker-compose -it exec $service bash`"
   ]
  },
  {
   "cell_type": "markdown",
   "metadata": {
    "slideshow": {
     "slide_type": "slide"
    }
   },
   "source": [
    "## Let's go!"
   ]
  },
  {
   "cell_type": "markdown",
   "metadata": {
    "slideshow": {
     "slide_type": "subslide"
    }
   },
   "source": [
    "Now we're going to extend a real and **very, very very imporant project** with a `Composition`:"
   ]
  },
  {
   "cell_type": "markdown",
   "metadata": {
    "slideshow": {
     "slide_type": "fragment"
    }
   },
   "source": [
    "https://github.com/pygrn/todos_django\n",
    "\n",
    "\n",
    "![alt text](./pictures/troll.gif \"Troll\")"
   ]
  },
  {
   "cell_type": "markdown",
   "metadata": {
    "slideshow": {
     "slide_type": "fragment"
    }
   },
   "source": [
    "This is a `Django` project that serves an example TODOS `API` created by [@manelclos](https://github.com/manelclos)"
   ]
  },
  {
   "cell_type": "markdown",
   "metadata": {
    "slideshow": {
     "slide_type": "subslide"
    }
   },
   "source": [
    "### Prepare the repo"
   ]
  },
  {
   "cell_type": "markdown",
   "metadata": {
    "slideshow": {
     "slide_type": "fragment"
    }
   },
   "source": [
    "```bash\n",
    "$ workon todos_django\n",
    "```\n",
    "or  `mkproject todos_django`  or just `activate` a fresh virtual env"
   ]
  },
  {
   "cell_type": "markdown",
   "metadata": {
    "slideshow": {
     "slide_type": "fragment"
    }
   },
   "source": [
    "```bash\n",
    "$ git clone git@github.com:pygrn/todos_django.git .\n",
    "``` "
   ]
  },
  {
   "cell_type": "markdown",
   "metadata": {
    "slideshow": {
     "slide_type": "subslide"
    }
   },
   "source": [
    "### Create our build file"
   ]
  },
  {
   "cell_type": "markdown",
   "metadata": {
    "slideshow": {
     "slide_type": "fragment"
    }
   },
   "source": [
    "- Create a new file named `Dockerfile`"
   ]
  },
  {
   "cell_type": "markdown",
   "metadata": {
    "slideshow": {
     "slide_type": "subslide"
    }
   },
   "source": [
    "```dockerfile\n",
    "FROM python:3.6\n",
    "ENV PYTHONUNBUFFERED 1\n",
    "COPY . /code/\n",
    "WORKDIR /code\n",
    "RUN pip install -r requirements.txt\n",
    "```\n",
    "\n",
    ", that means:\n",
    "- use `python:3.6` public image, and extend it with\n",
    "- `export PYTHONUNBUFFERED=1`\n",
    "- copy all the repo code at `/code`\n",
    "- assume that current directory will be `/code`\n",
    "- process and install all project requirements"
   ]
  },
  {
   "cell_type": "markdown",
   "metadata": {
    "slideshow": {
     "slide_type": "subslide"
    }
   },
   "source": [
    "- Create the image*\n",
    "\n",
    "```bash\n",
    "docker build -t todos_django:latest .\n",
    "```\n",
    ", this will tag the resultant image as `todos_django:latest`"
   ]
  },
  {
   "cell_type": "markdown",
   "metadata": {
    "slideshow": {
     "slide_type": "fragment"
    }
   },
   "source": [
    "- Run the image, just to review what it contains*\n",
    "\n",
    "```bash\n",
    "docker run --rm -it todos_django:latest bash\n",
    "```\n",
    ", this will provide an interactive temporal container that uses our image and drops a shell "
   ]
  },
  {
   "cell_type": "markdown",
   "metadata": {
    "slideshow": {
     "slide_type": "fragment"
    }
   },
   "source": [
    "*: step not necessary, `docker-compose` will build it if needed"
   ]
  },
  {
   "cell_type": "markdown",
   "metadata": {
    "slideshow": {
     "slide_type": "subslide"
    }
   },
   "source": [
    "### Create our Composition"
   ]
  },
  {
   "cell_type": "markdown",
   "metadata": {
    "slideshow": {
     "slide_type": "fragment"
    }
   },
   "source": [
    "- Create a new file named `docker-compose.yml`"
   ]
  },
  {
   "cell_type": "markdown",
   "metadata": {
    "slideshow": {
     "slide_type": "fragment"
    }
   },
   "source": [
    "```yaml\n",
    "version: '3'\n",
    "services:\n",
    "  api:\n",
    "    build: .\n",
    "    volumes:\n",
    "      - .:/code\n",
    "    ports:\n",
    "      - \"81:8000\"\n",
    "      \n",
    "```\n",
    "\n",
    ", that means:\n",
    "- hey \"mrs compose\", this is a version3 composition that should deploy a container serving the `api`\n",
    "- the image should be builded using our `Dockerfile`\n",
    "- at run time, `host` project directory should be mounted inside `container` `/code` folder\n",
    "- `container` `8000/tcp` will be exposed to `host` at `81/tcp`"
   ]
  },
  {
   "cell_type": "markdown",
   "metadata": {
    "slideshow": {
     "slide_type": "subslide"
    }
   },
   "source": [
    "- Let's going to try to start it\n",
    "\n",
    "```bash\n",
    "$ docker-compose up\n",
    "```"
   ]
  },
  {
   "cell_type": "markdown",
   "metadata": {
    "slideshow": {
     "slide_type": "fragment"
    }
   },
   "source": [
    "###  WTF??? What's happened?\n",
    "\n",
    "```\n",
    "...\n",
    "\n",
    "Creating network \"todos_django_default\" with the default driver\n",
    "Creating todos_django_api_1 ... done\n",
    "Attaching to todos_django_api_1\n",
    "todos_django_api_1 exited with code 0\n",
    "\n",
    "$ \n",
    "```"
   ]
  },
  {
   "cell_type": "markdown",
   "metadata": {
    "slideshow": {
     "slide_type": "subslide"
    }
   },
   "source": [
    "### We forget to define what it should do!!"
   ]
  },
  {
   "cell_type": "markdown",
   "metadata": {
    "slideshow": {
     "slide_type": "fragment"
    }
   },
   "source": [
    "```yaml\n",
    "  api:\n",
    "    ...\n",
    "    command: [\"python\", \"manage.py\", \"runserver\"]\n",
    "    \n",
    "```\n",
    ", this tells that `$ python manage.py runserver` should be run once the container is ready!"
   ]
  },
  {
   "cell_type": "markdown",
   "metadata": {
    "slideshow": {
     "slide_type": "fragment"
    }
   },
   "source": [
    "#### , it works, but we should add a DB to our composition!\n",
    "\n",
    "```\n",
    "...\n",
    "api_1  |   File \"/usr/local/lib/python3.6/site-packages/django/db/backends/postgresql/base.py\", line 176, in get_new_connection\n",
    "api_1  |     connection = Database.connect(**conn_params)\n",
    "api_1  |   File \"/usr/local/lib/python3.6/site-packages/psycopg2/__init__.py\", line 130, in connect\n",
    "api_1  |     conn = _connect(dsn, connection_factory=connection_factory, **kwasync)\n",
    "api_1  | django.db.utils.OperationalError: could not connect to server: No such file or directory\n",
    "api_1  | \tIs the server running locally and accepting\n",
    "api_1  | \tconnections on Unix domain socket \"/var/run/postgresql/.s.PGSQL.5432\"?\n",
    "api_1  | \n",
    "```"
   ]
  },
  {
   "cell_type": "markdown",
   "metadata": {
    "slideshow": {
     "slide_type": "subslide"
    }
   },
   "source": [
    "\n",
    "```yaml\n",
    "version: '3'\n",
    "services:\n",
    "  \n",
    "  ....\n",
    "  \n",
    "  db:\n",
    "    image: kartoza/postgis:latest\n",
    "    environment:\n",
    "      - POSTGRES_DB=a_database\n",
    "      - POSTGRES_USER=a_user\n",
    "      - POSTGRES_PASS=a_password\n",
    "      - ALLOW_IP_RANGE=0.0.0.0/0\n",
    "    ports:\n",
    "      - 35432:5432\n",
    "```\n",
    ", this will\n",
    "- provide a new service named `db` that will start a PostgreSQL with PostGIS extensions ready\n",
    "- creating a new database named `a_database`\n",
    "- granting access for `a_user:a_password`\n",
    "- allowing connections from any IP\n",
    "- exposing the container's psql port `5432` as host `35432`"
   ]
  },
  {
   "cell_type": "markdown",
   "metadata": {
    "slideshow": {
     "slide_type": "subslide"
    }
   },
   "source": [
    "### WTF?? Both containers are correctly defined, but the DB is not ready for our web\n",
    "\n",
    "```\n",
    "db_1   | 2019-03-05 15:37:23.354 UTC [40] LOG:  database system was shut down at 2019-02-01 14:24:17 UTC\n",
    "db_1   | 2019-03-05 15:37:23.388 UTC [27] LOG:  database system is ready to accept connections\n",
    "api_1  | Try to load extra settings: settings-production.py\n",
    "api_1  | Performing system checks...\n",
    "api_1  | \n",
    "api_1  | System check identified no issues (0 silenced).\n",
    "api_1  | Unhandled exception in thread started by <function check_errors.<locals>.wrapper at 0x7fdc5d447268>\n",
    "api_1  | Traceback (most recent call last):\n",
    "api_1  |   File \"/usr/local/lib/python3.6/site-packages/django/db/backends/base/base.py\", line 213, in ensure_connection\n",
    "api_1  |     self.connect()\n",
    "api_1  |   File \"/usr/local/lib/python3.6/site-packages/django/db/backends/base/base.py\", line 189, in connect\n",
    "api_1  |     self.connection = self.get_new_connection(conn_params)\n",
    "api_1  |   File \"/usr/local/lib/python3.6/site-packages/django/db/backends/postgresql/base.py\", line 176, in get_new_connection\n",
    "api_1  |     connection = Database.connect(**conn_params)\n",
    "api_1  |   File \"/usr/local/lib/python3.6/site-packages/psycopg2/__init__.py\", line 130, in connect\n",
    "api_1  |     conn = _connect(dsn, connection_factory=connection_factory, **kwasync)\n",
    "api_1  | psycopg2.OperationalError: could not connect to server: No such file or directory\n",
    "api_1  | \tIs the server running locally and accepting\n",
    "api_1  | \tconnections on Unix domain socket \"/var/run/postgresql/.s.PGSQL.5432\"?\n",
    "\n",
    "...\n",
    "...\n",
    "\n",
    "db_1   | postgres ready\n",
    "db_1   | Postgis is missing, installing now\n",
    "db_1   | Creating template postgis\n",
    "db_1   | Enabling template_postgis as a template\n",
    "db_1   | UPDATE 1\n",
    "db_1   | Loading postgis extension\n",
    "db_1   | CREATE EXTENSION\n",
    "db_1   | Enabling hstore in the template\n",
    "db_1   | CREATE EXTENSION\n",
    "db_1   | Enabling topology in the template\n",
    "db_1   | CREATE EXTENSION\n",
    "\n",
    "``` "
   ]
  },
  {
   "cell_type": "markdown",
   "metadata": {
    "slideshow": {
     "slide_type": "subslide"
    }
   },
   "source": [
    "### Solution: Use wait scripts!\n",
    "\n",
    "https://github.com/vishnubob/wait-for-it"
   ]
  },
  {
   "cell_type": "markdown",
   "metadata": {
    "slideshow": {
     "slide_type": "fragment"
    }
   },
   "source": [
    "- Fetch the `wait-for-it.sh` script and save it at `utils/wait-for-it.sh` //ensure that is executable!\n",
    "```bash\n",
    "$ mkdir -p utils && curl https://raw.githubusercontent.com/vishnubob/wait-for-it/master/wait-for-it.sh -o utils/wait-for-it.sh && chmod +x utils/wait-for-it.sh\n",
    "```"
   ]
  },
  {
   "cell_type": "markdown",
   "metadata": {
    "slideshow": {
     "slide_type": "fragment"
    }
   },
   "source": [
    "- Prepare an start script! `utils/start-server.sh` //it should be executable!\n",
    "\n",
    "\n",
    "```bash\n",
    "pip install -r requirements.txt\n",
    "python manage.py migrate\n",
    "python manage.py runserver 0.0.0.0:8000\n",
    "```\n",
    ", this will ensure to review requirements, apply latest pending migrations and start Django!"
   ]
  },
  {
   "cell_type": "markdown",
   "metadata": {
    "slideshow": {
     "slide_type": "subslide"
    }
   },
   "source": [
    "- Improve our composition to change `web` start command and define a depedency to `db`:\n",
    "\n",
    "```yaml\n",
    "  api:\n",
    "    build: .\n",
    "    volumes:\n",
    "      - .:/code\n",
    "    command: [\"bash\", \"./utils/wait-for-it.sh\", \"db:5432\", \"--\", \"bash\",  \"./utils/start-server.sh\"]\n",
    "    depends_on:\n",
    "      - db    \n",
    "```\n",
    ", this will start our Django once the `5432/tcp@db` is ready to accept connections!"
   ]
  },
  {
   "cell_type": "markdown",
   "metadata": {
    "slideshow": {
     "slide_type": "subslide"
    }
   },
   "source": [
    "### OK! Now our Django is waiting for the DB, but still breaking!\n",
    "\n",
    "We should review our `Django` config, **it needs some ENV vars to point to our backend**\n"
   ]
  },
  {
   "cell_type": "markdown",
   "metadata": {
    "slideshow": {
     "slide_type": "fragment"
    }
   },
   "source": [
    "```bash\n",
    "$ cat todos_project/settings-production.py\n",
    "\n",
    "DATABASES = {\n",
    "    'default': {\n",
    "        # 'ENGINE': 'django.db.backends.postgresql_psycopg2',\n",
    "        'ENGINE': 'django.db.backends.postgresql',\n",
    "        'NAME': os.environ.get('DB_NAME'),\n",
    "        'USER': os.environ.get('DB_USER'),\n",
    "        'PASSWORD': os.environ.get('DB_PASSWORD'),\n",
    "        'HOST': os.environ.get('DB_HOST'),\n",
    "        'PORT': os.environ.get('DB_PORT'),\n",
    "    },\n",
    "}\n",
    "\n",
    "...\n",
    "```"
   ]
  },
  {
   "cell_type": "markdown",
   "metadata": {
    "slideshow": {
     "slide_type": "subslide"
    }
   },
   "source": [
    "### Config the environment\n",
    "\n",
    "\n",
    "```yaml\n",
    "...\n",
    "\n",
    "  db:\n",
    "    environment:\n",
    "      - POSTGRES_DB=${DB_NAME}\n",
    "      - POSTGRES_USER=${DB_USER}\n",
    "      - POSTGRES_PASS=${DB_PASSWORD}\n",
    "      - ALLOW_IP_RANGE=0.0.0.0/0\n",
    "\n",
    "...\n",
    "\n",
    "  api:\n",
    "    environment:\n",
    "      - DB_HOST=${DB_HOST}\n",
    "      - DB_PORT=${DB_PORT}\n",
    "      - DB_NAME=${DB_NAME}\n",
    "      - DB_USER=${DB_USER}\n",
    "      - DB_PASSWORD=${DB_PASSWORD}\n",
    "```"
   ]
  },
  {
   "cell_type": "markdown",
   "metadata": {
    "slideshow": {
     "slide_type": "fragment"
    }
   },
   "source": [
    "- Create an `.env` file\n",
    "\n",
    "```bash\n",
    "DB_HOST=db\n",
    "DB_PORT=5432\n",
    "DB_NAME=todos\n",
    "DB_USER=todos\n",
    "DB_PASSWORD=this_is_not_a_secure_password\n",
    "```"
   ]
  },
  {
   "cell_type": "markdown",
   "metadata": {
    "slideshow": {
     "slide_type": "subslide"
    }
   },
   "source": [
    "### It's magic!! It works!!!\n",
    "\n",
    "http://0.0.0.0:81/api/v1/\n",
    "\n",
    "\n",
    "![alt text](./pictures/todos_api.png \"TODOs API\")"
   ]
  },
  {
   "cell_type": "markdown",
   "metadata": {
    "slideshow": {
     "slide_type": "subslide"
    }
   },
   "source": [
    "### It can be more intense...\n",
    "\n",
    "We'll try to integrate the `React` frontend created by [@francescarpi](http://github.com/francescarpi):\n",
    "\n",
    "https://github.com/pygrn/todos_react"
   ]
  },
  {
   "cell_type": "markdown",
   "metadata": {
    "slideshow": {
     "slide_type": "fragment"
    }
   },
   "source": [
    "### The idea is to show alternative ways to provide a container as a service"
   ]
  },
  {
   "cell_type": "markdown",
   "metadata": {
    "slideshow": {
     "slide_type": "subslide"
    }
   },
   "source": [
    "- Create another build script named `Dockerfile_frontend`"
   ]
  },
  {
   "cell_type": "markdown",
   "metadata": {
    "slideshow": {
     "slide_type": "fragment"
    }
   },
   "source": [
    "```Dockerfile\n",
    "# Use an alpine-based (ver small base) node image\n",
    "FROM node:alpine\n",
    "RUN apk update && apk upgrade && \\\n",
    "    apk add --no-cache bash git openssh\n",
    "    \n",
    "# Prepare our project and their dependencies\n",
    "RUN mkdir /code\n",
    "WORKDIR /code\n",
    "RUN git clone https://github.com/pygrn/todos_react . \n",
    "RUN sed -i 's;https://server3.microdisseny.com/apps/todos;http://api:8000;g' src/lib/apiclient.js\n",
    "RUN yarn install\n",
    "\n",
    "# Directly upload the wait-for-it script to the image\n",
    "ADD utils/wait-for-it.sh ./\n",
    "RUN chmod +x wait-for-it.sh\n",
    "```"
   ]
  },
  {
   "cell_type": "markdown",
   "metadata": {
    "slideshow": {
     "slide_type": "subslide"
    }
   },
   "source": [
    "- Add the new service!\n",
    "\n",
    "```yaml\n",
    "...\n",
    "\n",
    "  web:\n",
    "    build: \n",
    "     context: ./\n",
    "     dockerfile: Dockerfile_frontend\n",
    "    command: [\"bash\", \"./wait-for-it.sh\", \"api:8000\", \"--\", \"yarn\",  \"start\"]\n",
    "    ports:\n",
    "      - \"80:3000\"\n",
    "    depends_on:\n",
    "      - api\n",
    "    restart: always\n",
    "```"
   ]
  },
  {
   "cell_type": "markdown",
   "metadata": {
    "slideshow": {
     "slide_type": "subslide"
    }
   },
   "source": [
    "### It can be extended with"
   ]
  },
  {
   "cell_type": "markdown",
   "metadata": {
    "slideshow": {
     "slide_type": "fragment"
    }
   },
   "source": [
    "- build arguments passed from our composition\n",
    "  - see https://docs.docker.com/compose/compose-file/#build\n",
    "  - ie usefull to define which repository tag should be used at build time"
   ]
  },
  {
   "cell_type": "markdown",
   "metadata": {
    "slideshow": {
     "slide_type": "fragment"
    }
   },
   "source": [
    "- shared volumes\n",
    "  - https://docs.docker.com/compose/compose-file/#volumes\n",
    "  - interesting if some kind of low-level sharing should be provided, ie\n",
    "    - share store between N redis instances\n",
    "    - map the build output of our nodejs-based app into the access layer (ie nginx)"
   ]
  },
  {
   "cell_type": "markdown",
   "metadata": {
    "slideshow": {
     "slide_type": "subslide"
    }
   },
   "source": [
    "- custom networks\n",
    "  - https://docs.docker.com/compose/networking/#specify-custom-networks\n",
    "  - very useful if some kind of network restrinctions should be applied to our composition, ie\n",
    "    - isolate a DMZ, a preDMZ and a LAN restricting the exposure and the visibility of our services\n",
    "    - (re)use already existent networks (powered by other compositions)"
   ]
  },
  {
   "cell_type": "markdown",
   "metadata": {
    "slideshow": {
     "slide_type": "fragment"
    }
   },
   "source": [
    "- service scalation\n",
    "  - https://docs.docker.com/compose/reference/scale/\n",
    "  - very useful to start N instances of same service, and be able to re-scale if needed, ie for\n",
    "    - dispatch N workers\n",
    "    - launch N access layer elements"
   ]
  },
  {
   "cell_type": "markdown",
   "metadata": {
    "slideshow": {
     "slide_type": "fragment"
    }
   },
   "source": [
    "- ..."
   ]
  },
  {
   "cell_type": "markdown",
   "metadata": {
    "slideshow": {
     "slide_type": "subslide"
    }
   },
   "source": [
    "### Some interesting utilities"
   ]
  },
  {
   "cell_type": "markdown",
   "metadata": {
    "slideshow": {
     "slide_type": "fragment"
    }
   },
   "source": [
    "- Clean development environment(s)"
   ]
  },
  {
   "cell_type": "markdown",
   "metadata": {
    "slideshow": {
     "slide_type": "fragment"
    }
   },
   "source": [
    "- Simple, quick and standardized deployments!\n",
    "  - previous step to the orchestration"
   ]
  },
  {
   "cell_type": "markdown",
   "metadata": {
    "slideshow": {
     "slide_type": "fragment"
    }
   },
   "source": [
    "- Local testing\n",
    "  - Thing about to provide the 3G: \n",
    "    - Good **migrations**, Good **test data**, Good **tests**! xDD"
   ]
  },
  {
   "cell_type": "markdown",
   "metadata": {
    "slideshow": {
     "slide_type": "fragment"
    }
   },
   "source": [
    "- Continuous Integration\n",
    "  - [Travis](https://travis-ci.org)\n",
    "  - [CircleCI](https://circleci.com)"
   ]
  },
  {
   "cell_type": "markdown",
   "metadata": {
    "slideshow": {
     "slide_type": "slide"
    }
   },
   "source": [
    "# Play time!"
   ]
  },
  {
   "cell_type": "markdown",
   "metadata": {
    "slideshow": {
     "slide_type": "fragment"
    }
   },
   "source": [
    "- 1) Select one of our favourite projects"
   ]
  },
  {
   "cell_type": "markdown",
   "metadata": {
    "slideshow": {
     "slide_type": "fragment"
    }
   },
   "source": [
    "- 2) Think which composition can be provided to the project to reach a quick-run / quick-deployable env"
   ]
  },
  {
   "cell_type": "markdown",
   "metadata": {
    "slideshow": {
     "slide_type": "fragment"
    }
   },
   "source": [
    "- 3) Play with it! If support is needed just warn us!"
   ]
  },
  {
   "cell_type": "markdown",
   "metadata": {
    "slideshow": {
     "slide_type": "slide"
    }
   },
   "source": [
    "# It's all!\n",
    "\n",
    "![Thanks!](pictures/thanks.gif \"Thanks\")\n",
    "\n",
    "For more information https://docs.docker.com/compose/"
   ]
  },
  {
   "cell_type": "markdown",
   "metadata": {
    "slideshow": {
     "slide_type": "slide"
    }
   },
   "source": [
    "# Questions?"
   ]
  }
 ],
 "metadata": {
  "celltoolbar": "Slideshow",
  "kernelspec": {
   "display_name": "Python 3",
   "language": "python",
   "name": "python3"
  },
  "language_info": {
   "codemirror_mode": {
    "name": "ipython",
    "version": 3
   },
   "file_extension": ".py",
   "mimetype": "text/x-python",
   "name": "python",
   "nbconvert_exporter": "python",
   "pygments_lexer": "ipython3",
   "version": "3.6.5"
  }
 },
 "nbformat": 4,
 "nbformat_minor": 2
}
